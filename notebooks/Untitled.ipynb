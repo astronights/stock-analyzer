{
 "cells": [
  {
   "cell_type": "code",
   "execution_count": 1,
   "id": "d9490df8",
   "metadata": {},
   "outputs": [],
   "source": [
    "import pandas as pd"
   ]
  },
  {
   "cell_type": "code",
   "execution_count": 18,
   "id": "817c6236",
   "metadata": {},
   "outputs": [
    {
     "data": {
      "text/html": [
       "<div>\n",
       "<style scoped>\n",
       "    .dataframe tbody tr th:only-of-type {\n",
       "        vertical-align: middle;\n",
       "    }\n",
       "\n",
       "    .dataframe tbody tr th {\n",
       "        vertical-align: top;\n",
       "    }\n",
       "\n",
       "    .dataframe thead th {\n",
       "        text-align: right;\n",
       "    }\n",
       "</style>\n",
       "<table border=\"1\" class=\"dataframe\">\n",
       "  <thead>\n",
       "    <tr style=\"text-align: right;\">\n",
       "      <th></th>\n",
       "      <th>symbol</th>\n",
       "      <th>marketState</th>\n",
       "      <th>regularMarketChangePercent</th>\n",
       "      <th>regularMarketPrice</th>\n",
       "      <th>regularMarketChange</th>\n",
       "      <th>regularMarketTime</th>\n",
       "      <th>regularMarketOpen</th>\n",
       "      <th>regularMarketDayHigh</th>\n",
       "      <th>regularMarketDayLow</th>\n",
       "      <th>regularMarketVolume</th>\n",
       "      <th>...</th>\n",
       "      <th>fiftyTwoWeekHighChangePercent</th>\n",
       "      <th>trailingPE</th>\n",
       "      <th>priceEpsCurrentYear</th>\n",
       "      <th>fiftyDayAverageChange</th>\n",
       "      <th>fiftyDayAverageChangePercent</th>\n",
       "      <th>twoHundredDayAverageChange</th>\n",
       "      <th>twoHundredDayAverageChangePercent</th>\n",
       "      <th>marketCap</th>\n",
       "      <th>forwardPE</th>\n",
       "      <th>priceToBook</th>\n",
       "    </tr>\n",
       "  </thead>\n",
       "  <tbody>\n",
       "    <tr>\n",
       "      <th>0</th>\n",
       "      <td>AA</td>\n",
       "      <td>REGULAR</td>\n",
       "      <td>-3.644932</td>\n",
       "      <td>38.86</td>\n",
       "      <td>-1.470001</td>\n",
       "      <td>2024-07-10 02:46:55</td>\n",
       "      <td>40.66</td>\n",
       "      <td>40.7</td>\n",
       "      <td>38.825</td>\n",
       "      <td>1597108</td>\n",
       "      <td>...</td>\n",
       "      <td>-0.145558</td>\n",
       "      <td>NaN</td>\n",
       "      <td>94.78049</td>\n",
       "      <td>-1.165398</td>\n",
       "      <td>-0.029116</td>\n",
       "      <td>7.0296</td>\n",
       "      <td>0.220845</td>\n",
       "      <td>6977740288</td>\n",
       "      <td>15.732794</td>\n",
       "      <td>1.747067</td>\n",
       "    </tr>\n",
       "  </tbody>\n",
       "</table>\n",
       "<p>1 rows × 27 columns</p>\n",
       "</div>"
      ],
      "text/plain": [
       "  symbol marketState  regularMarketChangePercent  regularMarketPrice  \\\n",
       "0     AA     REGULAR                   -3.644932               38.86   \n",
       "\n",
       "   regularMarketChange   regularMarketTime  regularMarketOpen  \\\n",
       "0            -1.470001 2024-07-10 02:46:55              40.66   \n",
       "\n",
       "   regularMarketDayHigh  regularMarketDayLow  regularMarketVolume  ...  \\\n",
       "0                  40.7               38.825              1597108  ...   \n",
       "\n",
       "   fiftyTwoWeekHighChangePercent  trailingPE  priceEpsCurrentYear  \\\n",
       "0                      -0.145558         NaN             94.78049   \n",
       "\n",
       "   fiftyDayAverageChange  fiftyDayAverageChangePercent  \\\n",
       "0              -1.165398                     -0.029116   \n",
       "\n",
       "   twoHundredDayAverageChange  twoHundredDayAverageChangePercent   marketCap  \\\n",
       "0                      7.0296                           0.220845  6977740288   \n",
       "\n",
       "   forwardPE  priceToBook  \n",
       "0  15.732794     1.747067  \n",
       "\n",
       "[1 rows x 27 columns]"
      ]
     },
     "execution_count": 18,
     "metadata": {},
     "output_type": "execute_result"
    }
   ],
   "source": [
    "pd.read_parquet('../prices/AA/2024_07_10.parquet')"
   ]
  }
 ],
 "metadata": {
  "kernelspec": {
   "display_name": "Python 3 (ipykernel)",
   "language": "python",
   "name": "python3"
  },
  "language_info": {
   "codemirror_mode": {
    "name": "ipython",
    "version": 3
   },
   "file_extension": ".py",
   "mimetype": "text/x-python",
   "name": "python",
   "nbconvert_exporter": "python",
   "pygments_lexer": "ipython3",
   "version": "3.10.9"
  }
 },
 "nbformat": 4,
 "nbformat_minor": 5
}
