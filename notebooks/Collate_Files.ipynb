{
 "cells": [
  {
   "cell_type": "code",
   "execution_count": 1,
   "id": "fbcb8eb0",
   "metadata": {},
   "outputs": [],
   "source": [
    "import os\n",
    "import pandas as pd\n",
    "import polars as pl"
   ]
  },
  {
   "cell_type": "code",
   "execution_count": 2,
   "id": "f4ec3234",
   "metadata": {},
   "outputs": [],
   "source": [
    "# from get_prices import download_parquets\n",
    "# download_parquets()"
   ]
  },
  {
   "cell_type": "code",
   "execution_count": 3,
   "id": "ec4899ba",
   "metadata": {},
   "outputs": [
    {
     "data": {
      "text/plain": [
       "['AA', 'HDB', 'INDA', 'EPI']"
      ]
     },
     "execution_count": 3,
     "metadata": {},
     "output_type": "execute_result"
    }
   ],
   "source": [
    "assets = pd.read_csv('../src/data/assets.txt').columns.tolist()\n",
    "assets"
   ]
  },
  {
   "cell_type": "code",
   "execution_count": 5,
   "id": "775bfc42",
   "metadata": {},
   "outputs": [
    {
     "data": {
      "text/plain": [
       "(125, 'AA_2024_07_12.parquet')"
      ]
     },
     "execution_count": 5,
     "metadata": {},
     "output_type": "execute_result"
    }
   ],
   "source": [
    "len(os.listdir('./prices')), os.listdir('./prices')[0]"
   ]
  },
  {
   "cell_type": "code",
   "execution_count": 12,
   "id": "df32da4c",
   "metadata": {},
   "outputs": [],
   "source": [
    "for asset in assets:\n",
    "    df = pl.scan_parquet(fr'./prices/{asset}_2024_*.parquet')\n",
    "    df.collect().write_parquet(f'./prices/{asset}_all.parquet')"
   ]
  }
 ],
 "metadata": {
  "kernelspec": {
   "display_name": "ibstock",
   "language": "python",
   "name": "ibstock"
  },
  "language_info": {
   "codemirror_mode": {
    "name": "ipython",
    "version": 3
   },
   "file_extension": ".py",
   "mimetype": "text/x-python",
   "name": "python",
   "nbconvert_exporter": "python",
   "pygments_lexer": "ipython3",
   "version": "3.11.9"
  }
 },
 "nbformat": 4,
 "nbformat_minor": 5
}
